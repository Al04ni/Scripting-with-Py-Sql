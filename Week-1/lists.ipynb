{
 "cells": [
  {
   "cell_type": "markdown",
   "metadata": {},
   "source": [
    "# List notebook"
   ]
  },
  {
   "cell_type": "markdown",
   "metadata": {},
   "source": [
    "In this notebook we will explore more about list to work with different data in general."
   ]
  },
  {
   "cell_type": "code",
   "execution_count": 2,
   "metadata": {},
   "outputs": [],
   "source": [
    "#List can be empty right\n",
    "things = []"
   ]
  },
  {
   "cell_type": "code",
   "execution_count": 6,
   "metadata": {},
   "outputs": [
    {
     "data": {
      "text/plain": [
       "['.anaconda',\n",
       " '.android',\n",
       " '.bash_history',\n",
       " '.bun',\n",
       " '.cache',\n",
       " '.cargo',\n",
       " '.conda',\n",
       " '.condarc',\n",
       " '.config',\n",
       " '.continuum',\n",
       " '.git',\n",
       " '.gitconfig',\n",
       " '.gitignore',\n",
       " '.gk',\n",
       " '.idea',\n",
       " '.idlerc',\n",
       " '.ipynb_checkpoints',\n",
       " '.ipython',\n",
       " '.jupyter',\n",
       " '.keras',\n",
       " '.kube',\n",
       " '.lesshst',\n",
       " '.letta',\n",
       " '.matplotlib',\n",
       " '.ollama',\n",
       " '.python_history',\n",
       " '.rustup',\n",
       " '.ssh',\n",
       " '.streamlit',\n",
       " '.vscode',\n",
       " '.wakatime',\n",
       " '.wakatime.cfg',\n",
       " '.web',\n",
       " '3D Objects',\n",
       " 'anaconda3',\n",
       " 'AppData',\n",
       " 'Application Data',\n",
       " 'assets',\n",
       " 'autoquizzer',\n",
       " 'blinking_LED.py',\n",
       " 'Chatapp',\n",
       " 'Chatbot',\n",
       " 'commandlinetools-win-11076708_latest',\n",
       " 'Contacts',\n",
       " 'Cookies',\n",
       " 'customer-management',\n",
       " 'datasets',\n",
       " 'dev',\n",
       " 'Devop4Pushing',\n",
       " 'Diet',\n",
       " 'DLLs',\n",
       " 'Doc',\n",
       " 'Downloads',\n",
       " 'echo',\n",
       " 'edb_npgsql.exe',\n",
       " 'edb_pem_agent.exe',\n",
       " 'edb_pgjdbc.exe',\n",
       " 'edb_psqlodbc.exe',\n",
       " 'edb_psqlodbc.exe-20241212183525',\n",
       " 'edb_xdb_7.exe',\n",
       " 'Eleka_inc_v1',\n",
       " 'etc',\n",
       " 'exit()',\n",
       " 'exit().pub',\n",
       " 'Favorites',\n",
       " 'flask-datta-able',\n",
       " 'Fullstack-py',\n",
       " 'Graphisoft',\n",
       " 'housing.ipynb',\n",
       " 'Hustling',\n",
       " 'images',\n",
       " 'include',\n",
       " 'IntelGraphicsProfiles',\n",
       " 'JARVIS',\n",
       " 'Lib',\n",
       " 'Library',\n",
       " 'libs',\n",
       " 'LICENSE',\n",
       " 'LICENSE.txt',\n",
       " 'Links',\n",
       " 'Local Settings',\n",
       " 'ML_journey',\n",
       " 'Motion_detection_with_PIR_sensor.py',\n",
       " 'My Documents',\n",
       " 'myenv',\n",
       " 'my_app_name',\n",
       " 'my_portfolio',\n",
       " 'Nanan',\n",
       " 'NetHood',\n",
       " 'NEWS.txt',\n",
       " 'nexttext.txt',\n",
       " 'nexttext.txt.pub',\n",
       " 'NTUSER.DAT',\n",
       " 'ntuser.dat.LOG1',\n",
       " 'ntuser.dat.LOG2',\n",
       " 'NTUSER.DAT{b0db15e3-e3fd-11ec-8f9c-080027ec4824}.TM.blf',\n",
       " 'NTUSER.DAT{b0db15e3-e3fd-11ec-8f9c-080027ec4824}.TMContainer00000000000000000001.regtrans-ms',\n",
       " 'NTUSER.DAT{b0db15e3-e3fd-11ec-8f9c-080027ec4824}.TMContainer00000000000000000002.regtrans-ms',\n",
       " 'ntuser.ini',\n",
       " 'number-guesser-cli',\n",
       " 'OneDrive',\n",
       " 'openapi_letta.json',\n",
       " 'openapi_openai.json',\n",
       " 'pemhttpd.exe',\n",
       " 'personal_web_site_reflex',\n",
       " 'postgis_3_5_pg17.exe',\n",
       " 'Pretraining',\n",
       " 'prettymapp',\n",
       " 'PrintHood',\n",
       " 'python',\n",
       " 'python.exe',\n",
       " 'python.pdb',\n",
       " 'python3.dll',\n",
       " 'python312.dll',\n",
       " 'python312.pdb',\n",
       " 'python312_d.dll',\n",
       " 'python312_d.pdb',\n",
       " 'python3_d.dll',\n",
       " 'pythonw.exe',\n",
       " 'pythonw.pdb',\n",
       " 'pythonw_d.exe',\n",
       " 'pythonw_d.pdb',\n",
       " 'python_d.exe',\n",
       " 'python_d.pdb',\n",
       " 'README.md',\n",
       " 'Recent',\n",
       " 'reflexproj.py',\n",
       " 'requirements.txt',\n",
       " 'roadmaps',\n",
       " 'rrachatbot',\n",
       " 'Rust4ML',\n",
       " 'rustacean_journey',\n",
       " 'rusting',\n",
       " 'rxconfig.py',\n",
       " 'Saved Games',\n",
       " 'scikit_learn_data',\n",
       " 'Scripting-with-Py-Sql',\n",
       " 'Scripts',\n",
       " 'Searches',\n",
       " 'see_tixbot.txt',\n",
       " 'SendTo',\n",
       " 'share',\n",
       " 'Social-network',\n",
       " 'Start Menu',\n",
       " 'Talk',\n",
       " 'tcl',\n",
       " 'te.sh',\n",
       " 'Templates',\n",
       " 'test.txt',\n",
       " 'titanic-classification',\n",
       " 'today.py',\n",
       " 'ToDo-List-CLI',\n",
       " 'Tracing',\n",
       " 'Untitled.ipynb',\n",
       " 'vcruntime140.dll',\n",
       " 'vcruntime140_1.dll',\n",
       " 'XTicket-chatbot',\n",
       " '__pycache__',\n",
       " 'Workout']"
      ]
     },
     "execution_count": 6,
     "metadata": {},
     "output_type": "execute_result"
    }
   ],
   "source": [
    "import os\n",
    "directories = os.listdir('/Users/ISO LTD')\n",
    "directories.append('Workout') \n",
    "directories"
   ]
  },
  {
   "cell_type": "markdown",
   "metadata": {},
   "source": [
    "# Tuples\n"
   ]
  },
  {
   "cell_type": "markdown",
   "metadata": {},
   "source": [
    "Let's also talk about the immutable list called `tuples` "
   ]
  },
  {
   "cell_type": "code",
   "execution_count": 4,
   "metadata": {},
   "outputs": [
    {
     "ename": "AttributeError",
     "evalue": "'tuple' object has no attribute 'add'",
     "output_type": "error",
     "traceback": [
      "\u001b[1;31m---------------------------------------------------------------------------\u001b[0m",
      "\u001b[1;31mAttributeError\u001b[0m                            Traceback (most recent call last)",
      "Cell \u001b[1;32mIn[4], line 2\u001b[0m\n\u001b[0;32m      1\u001b[0m unique \u001b[38;5;241m=\u001b[39m (\u001b[38;5;241m1\u001b[39m, \u001b[38;5;241m2\u001b[39m, \u001b[38;5;241m2\u001b[39m, \u001b[38;5;241m3\u001b[39m, \u001b[38;5;241m1\u001b[39m, \u001b[38;5;241m10\u001b[39m)\n\u001b[1;32m----> 2\u001b[0m unique\u001b[38;5;241m.\u001b[39madd(\u001b[38;5;241m5\u001b[39m)\n",
      "\u001b[1;31mAttributeError\u001b[0m: 'tuple' object has no attribute 'add'"
     ]
    }
   ],
   "source": [
    "\n",
    "unique = (1, 2, 2, 3, 1, 10)\n",
    "unique.add(5)\n",
    "\n",
    "# So here we will get an error as tuple is immutable so you can't change any value when it's assigned.\n"
   ]
  },
  {
   "cell_type": "markdown",
   "metadata": {},
   "source": []
  }
 ],
 "metadata": {
  "kernelspec": {
   "display_name": "base",
   "language": "python",
   "name": "python3"
  },
  "language_info": {
   "codemirror_mode": {
    "name": "ipython",
    "version": 3
   },
   "file_extension": ".py",
   "mimetype": "text/x-python",
   "name": "python",
   "nbconvert_exporter": "python",
   "pygments_lexer": "ipython3",
   "version": "3.11.7"
  }
 },
 "nbformat": 4,
 "nbformat_minor": 2
}
